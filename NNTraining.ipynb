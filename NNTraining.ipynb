{
  "nbformat": 4,
  "nbformat_minor": 0,
  "metadata": {
    "colab": {
      "provenance": []
    },
    "kernelspec": {
      "name": "python3",
      "display_name": "Python 3"
    },
    "language_info": {
      "name": "python"
    }
  },
  "cells": [
    {
      "cell_type": "code",
      "execution_count": 1,
      "metadata": {
        "id": "FXUqDuDUcgve"
      },
      "outputs": [],
      "source": [
        "from google.colab import auth\n",
        "import gspread\n",
        "from google.auth import default\n",
        "import pandas as pd"
      ]
    },
    {
      "cell_type": "code",
      "source": [
        "auth.authenticate_user()\n",
        "creds, _ = default()\n",
        "gc = gspread.authorize(creds)"
      ],
      "metadata": {
        "id": "yBWoNYK3dXqu"
      },
      "execution_count": 2,
      "outputs": []
    },
    {
      "cell_type": "code",
      "source": [
        "from sklearn.model_selection import train_test_split\n",
        "from sklearn.preprocessing import MinMaxScaler\n",
        "\n",
        "from tensorflow.keras.models import Sequential\n",
        "from tensorflow.keras.layers import Dense"
      ],
      "metadata": {
        "id": "0Hlbgbsfda2F"
      },
      "execution_count": 3,
      "outputs": []
    },
    {
      "cell_type": "code",
      "source": [
        "worksheet = gc.open('exp no 1').sheet1\n",
        "data=worksheet.get_all_values()\n",
        "print(data)"
      ],
      "metadata": {
        "colab": {
          "base_uri": "https://localhost:8080/"
        },
        "id": "BKQGRfF5eCJj",
        "outputId": "310a4246-d4e3-4841-e913-2ee7a99c6326"
      },
      "execution_count": 4,
      "outputs": [
        {
          "output_type": "stream",
          "name": "stdout",
          "text": [
            "[['input', 'Output'], ['1', '15'], ['2', '20'], ['3', '25'], ['4', '30'], ['5', '35'], ['6', '40'], ['7', '45'], ['8', '50'], ['9', '55'], ['10', '60'], ['11', '65'], ['12', '70'], ['13', '75'], ['14', '80'], ['15', '85'], ['16', '90'], ['17', '95'], ['18', '100'], ['19', '105'], ['20', '110']]\n"
          ]
        }
      ]
    },
    {
      "cell_type": "code",
      "source": [
        "dataset1 = pd.DataFrame(data[1:], columns=data[0])\n",
        "dataset1 = dataset1.astype({'input':'float'})\n",
        "dataset1 = dataset1.astype({'Output':'float'})"
      ],
      "metadata": {
        "id": "nYRRiRmNeE-D"
      },
      "execution_count": 6,
      "outputs": []
    },
    {
      "cell_type": "code",
      "source": [
        "X = dataset1[['input']].values\n",
        "y = dataset1[['Output']].values"
      ],
      "metadata": {
        "id": "zUz9yoVWeHI2"
      },
      "execution_count": 8,
      "outputs": []
    },
    {
      "cell_type": "code",
      "source": [
        "X_train,X_test,y_train,y_test = train_test_split(X,y,test_size = 0.30,random_state = 30)\n"
      ],
      "metadata": {
        "id": "9si4vdcmeLuz"
      },
      "execution_count": 9,
      "outputs": []
    },
    {
      "cell_type": "code",
      "source": [
        "Scaler = MinMaxScaler()\n",
        "Scaler.fit(X_train)\n",
        "X_train1 = Scaler.transform(X_train)"
      ],
      "metadata": {
        "id": "bb4h2TLUeQLJ"
      },
      "execution_count": 10,
      "outputs": []
    },
    {
      "cell_type": "code",
      "source": [
        "ai_model=Sequential([\n",
        "    Dense(units=8,activation='relu',input_shape=[1]),\n",
        "    Dense(units=9,activation='relu'),\n",
        "    Dense(units=1)\n",
        "])"
      ],
      "metadata": {
        "id": "C_zvcjAaeSj0"
      },
      "execution_count": 11,
      "outputs": []
    },
    {
      "cell_type": "code",
      "source": [
        "ai_model.compile(optimizer='rmsprop',loss='mse')"
      ],
      "metadata": {
        "id": "O5rGNqUGeUNw"
      },
      "execution_count": 12,
      "outputs": []
    },
    {
      "cell_type": "code",
      "source": [
        "ai_model.fit(X_train1,y_train,epochs=20)"
      ],
      "metadata": {
        "colab": {
          "base_uri": "https://localhost:8080/"
        },
        "id": "kDW0-MjEeWas",
        "outputId": "e4414cc9-8c6a-488f-970a-71fc81a36009"
      },
      "execution_count": 13,
      "outputs": [
        {
          "output_type": "stream",
          "name": "stdout",
          "text": [
            "Epoch 1/20\n",
            "1/1 [==============================] - 1s 1s/step - loss: 4980.2808\n",
            "Epoch 2/20\n",
            "1/1 [==============================] - 0s 10ms/step - loss: 4976.6460\n",
            "Epoch 3/20\n",
            "1/1 [==============================] - 0s 10ms/step - loss: 4974.0259\n",
            "Epoch 4/20\n",
            "1/1 [==============================] - 0s 18ms/step - loss: 4971.8047\n",
            "Epoch 5/20\n",
            "1/1 [==============================] - 0s 11ms/step - loss: 4969.7725\n",
            "Epoch 6/20\n",
            "1/1 [==============================] - 0s 13ms/step - loss: 4967.6909\n",
            "Epoch 7/20\n",
            "1/1 [==============================] - 0s 11ms/step - loss: 4965.2212\n",
            "Epoch 8/20\n",
            "1/1 [==============================] - 0s 11ms/step - loss: 4962.9990\n",
            "Epoch 9/20\n",
            "1/1 [==============================] - 0s 11ms/step - loss: 4960.9736\n",
            "Epoch 10/20\n",
            "1/1 [==============================] - 0s 11ms/step - loss: 4959.0752\n",
            "Epoch 11/20\n",
            "1/1 [==============================] - 0s 12ms/step - loss: 4957.2681\n",
            "Epoch 12/20\n",
            "1/1 [==============================] - 0s 12ms/step - loss: 4955.5352\n",
            "Epoch 13/20\n",
            "1/1 [==============================] - 0s 13ms/step - loss: 4953.8667\n",
            "Epoch 14/20\n",
            "1/1 [==============================] - 0s 13ms/step - loss: 4952.2490\n",
            "Epoch 15/20\n",
            "1/1 [==============================] - 0s 16ms/step - loss: 4950.6733\n",
            "Epoch 16/20\n",
            "1/1 [==============================] - 0s 12ms/step - loss: 4949.1396\n",
            "Epoch 17/20\n",
            "1/1 [==============================] - 0s 18ms/step - loss: 4947.6470\n",
            "Epoch 18/20\n",
            "1/1 [==============================] - 0s 12ms/step - loss: 4946.1782\n",
            "Epoch 19/20\n",
            "1/1 [==============================] - 0s 15ms/step - loss: 4944.7290\n",
            "Epoch 20/20\n",
            "1/1 [==============================] - 0s 12ms/step - loss: 4943.2998\n"
          ]
        },
        {
          "output_type": "execute_result",
          "data": {
            "text/plain": [
              "<keras.src.callbacks.History at 0x7d50dc5e2e60>"
            ]
          },
          "metadata": {},
          "execution_count": 13
        }
      ]
    },
    {
      "cell_type": "code",
      "source": [
        "loss_df = pd.DataFrame(ai_model.history.history)\n",
        "loss_df.plot()"
      ],
      "metadata": {
        "colab": {
          "base_uri": "https://localhost:8080/",
          "height": 447
        },
        "id": "3adbOOxIeYE9",
        "outputId": "f79f7cfd-8ac2-4d56-8b49-879c7405f209"
      },
      "execution_count": 14,
      "outputs": [
        {
          "output_type": "execute_result",
          "data": {
            "text/plain": [
              "<Axes: >"
            ]
          },
          "metadata": {},
          "execution_count": 14
        },
        {
          "output_type": "display_data",
          "data": {
            "text/plain": [
              "<Figure size 640x480 with 1 Axes>"
            ],
            "image/png": "[encoded data removed]"
          },
          "metadata": {}
        }
      ]
    },
    {
      "cell_type": "code",
      "source": [
        "X_test1 = Scaler.transform(X_test)\n",
        "ai_model.evaluate(X_test1,y_test)"
      ],
      "metadata": {
        "colab": {
          "base_uri": "https://localhost:8080/"
        },
        "id": "4kvSDUzRea63",
        "outputId": "7a2d7e62-8881-48fe-fd63-da414c9bac5d"
      },
      "execution_count": 15,
      "outputs": [
        {
          "output_type": "stream",
          "name": "stdout",
          "text": [
            "1/1 [==============================] - 0s 207ms/step - loss: 4375.2671\n"
          ]
        },
        {
          "output_type": "execute_result",
          "data": {
            "text/plain": [
              "4375.26708984375"
            ]
          },
          "metadata": {},
          "execution_count": 15
        }
      ]
    },
    {
      "cell_type": "code",
      "source": [
        "X_n1 = [[30]]\n",
        "X_n1_1 = Scaler.transform(X_n1)\n",
        "ai_model.predict(X_n1_1)"
      ],
      "metadata": {
        "colab": {
          "base_uri": "https://localhost:8080/"
        },
        "id": "nhhryXcnedZo",
        "outputId": "e54461ed-90bb-4f23-b064-b9e990deb8b8"
      },
      "execution_count": 16,
      "outputs": [
        {
          "output_type": "stream",
          "name": "stdout",
          "text": [
            "1/1 [==============================] - 0s 102ms/step\n"
          ]
        },
        {
          "output_type": "execute_result",
          "data": {
            "text/plain": [
              "array([[-0.9197479]], dtype=float32)"
            ]
          },
          "metadata": {},
          "execution_count": 16
        }
      ]
    },
    {
      "cell_type": "code",
      "source": [],
      "metadata": {
        "id": "M0tgd7C6ega0"
      },
      "execution_count": null,
      "outputs": []
    }
  ]
}
